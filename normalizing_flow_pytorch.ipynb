{
  "cells": [
    {
      "cell_type": "markdown",
      "id": "b2ea4b60",
      "metadata": {
        "id": "b2ea4b60"
      },
      "source": [
        "# 🔄 Normalizing Flow Model in PyTorch\n",
        "\n",
        "This notebook provides a simple implementation of a normalizing flow model."
      ]
    },
    {
      "cell_type": "code",
      "execution_count": null,
      "id": "753aafc9",
      "metadata": {
        "id": "753aafc9"
      },
      "outputs": [],
      "source": [
        "import torch\n",
        "import torch.nn as nn\n",
        "import torch.nn.functional as F\n",
        "import matplotlib.pyplot as plt\n",
        "\n",
        "from sklearn.model_selection import train_test_split\n",
        "from torch.utils.data import TensorDataset, DataLoader\n",
        "import matplotlib.pyplot as plt"
      ]
    },
    {
      "cell_type": "code",
      "source": [
        "from sklearn.datasets import make_moons\n",
        "\n",
        "# Generate two moons data\n",
        "X, y = make_moons(n_samples=10000, noise=0.05)\n",
        "X = torch.tensor(X, dtype=torch.float32)\n",
        "\n",
        "# Visualize (optional)\n",
        "plt.scatter(X[:, 0], X[:, 1], s=5, alpha=0.6)\n",
        "plt.title(\"Two Moons Dataset\")\n",
        "plt.show()\n",
        "\n",
        "# Create PyTorch dataset and dataloader\n",
        "dataset = TensorDataset(X)\n",
        "dataloader = DataLoader(dataset, batch_size=256, shuffle=True)"
      ],
      "metadata": {
        "id": "T5m7kEM-aTkW"
      },
      "id": "T5m7kEM-aTkW",
      "execution_count": null,
      "outputs": []
    },
    {
      "cell_type": "markdown",
      "id": "9d2d05d0",
      "metadata": {
        "id": "9d2d05d0"
      },
      "source": [
        "## 🧱 Define the Affine Coupling Layer"
      ]
    },
    {
      "cell_type": "code",
      "execution_count": null,
      "id": "37e8fc24",
      "metadata": {
        "id": "37e8fc24"
      },
      "outputs": [],
      "source": [
        "class AffineCoupling(nn.Module):\n",
        "    def __init__(self, dim, hidden_dim=128):\n",
        "        super().__init__()\n",
        "        self.scale_net = nn.Sequential(\n",
        "            nn.Linear(dim // 2, hidden_dim),\n",
        "            nn.ReLU(),\n",
        "            nn.Linear(hidden_dim, dim // 2),\n",
        "            nn.Tanh()\n",
        "        )\n",
        "        self.shift_net = nn.Sequential(\n",
        "            nn.Linear(dim // 2, hidden_dim),\n",
        "            nn.ReLU(),\n",
        "            nn.Linear(hidden_dim, dim // 2)\n",
        "        )\n",
        "\n",
        "    def forward(self, x):\n",
        "        x1, x2 = x.chunk(2, dim=1)\n",
        "        s = self.scale_net(x1)\n",
        "        t = self.shift_net(x1)\n",
        "        y2 = x2 * torch.exp(s) + t\n",
        "        y = torch.cat([x1, y2], dim=1)\n",
        "        log_det = s.sum(dim=1)\n",
        "        return y, log_det\n",
        "\n",
        "    def inverse(self, y):\n",
        "        y1, y2 = y.chunk(2, dim=1)\n",
        "        s = self.scale_net(y1)\n",
        "        t = self.shift_net(y1)\n",
        "        x2 = (y2 - t) * torch.exp(-s)\n",
        "        x = torch.cat([y1, x2], dim=1)\n",
        "        log_det = -s.sum(dim=1)\n",
        "        return x, log_det"
      ]
    },
    {
      "cell_type": "markdown",
      "id": "fbcf5810",
      "metadata": {
        "id": "fbcf5810"
      },
      "source": [
        "## 🔁 Build the Flow Model"
      ]
    },
    {
      "cell_type": "code",
      "execution_count": null,
      "id": "e5b810e1",
      "metadata": {
        "id": "e5b810e1"
      },
      "outputs": [],
      "source": [
        "class NormalizingFlowModel(nn.Module):\n",
        "    def __init__(self, dim, n_flows):\n",
        "        super().__init__()\n",
        "        self.dim = dim\n",
        "        self.base_dist = torch.distributions.MultivariateNormal(\n",
        "            torch.zeros(dim), torch.eye(dim)\n",
        "        )\n",
        "        self.flows = nn.ModuleList([AffineCoupling(dim) for _ in range(n_flows)])\n",
        "\n",
        "    def forward(self, x):\n",
        "        log_det_total = torch.zeros(x.size(0))\n",
        "        for flow in self.flows:\n",
        "            x, log_det = flow(x)\n",
        "            log_det_total += log_det\n",
        "        log_prob = self.base_dist.log_prob(x) + log_det_total\n",
        "        return log_prob\n",
        "\n",
        "    def sample(self, n_samples):\n",
        "        z = self.base_dist.sample((n_samples,))\n",
        "        for flow in reversed(self.flows):\n",
        "            z, _ = flow.inverse(z)\n",
        "        return z"
      ]
    },
    {
      "cell_type": "markdown",
      "id": "c6529253",
      "metadata": {
        "id": "c6529253"
      },
      "source": [
        "## 🔍 Example: Sampling and Density Evaluation"
      ]
    },
    {
      "cell_type": "code",
      "execution_count": null,
      "id": "5faba53e",
      "metadata": {
        "id": "5faba53e"
      },
      "outputs": [],
      "source": [
        "dim = 4\n",
        "n_flows = 4\n",
        "flow_model = NormalizingFlowModel(dim, n_flows)\n",
        "\n",
        "# Evaluate log-likelihood\n",
        "x = torch.randn(10, dim)\n",
        "log_probs = flow_model(x)\n",
        "print(\"Log-likelihoods:\", log_probs)\n",
        "\n",
        "# Sample from model\n",
        "samples = flow_model.sample(500).detach().numpy()\n",
        "\n",
        "# Visualize first two dimensions\n",
        "plt.figure(figsize=(6, 5))\n",
        "plt.scatter(samples[:, 0], samples[:, 1], alpha=0.6)\n",
        "plt.title(\"Samples from Flow Model (dim 0 vs 1)\")\n",
        "plt.xlabel(\"x0\")\n",
        "plt.ylabel(\"x1\")\n",
        "plt.grid(True)\n",
        "plt.show()"
      ]
    }
  ],
  "metadata": {
    "colab": {
      "provenance": []
    }
  },
  "nbformat": 4,
  "nbformat_minor": 5
}