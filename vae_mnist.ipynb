{
 "cells": [
  {
   "cell_type": "markdown",
   "id": "62b02bfc",
   "metadata": {},
   "source": [
    "# Variational Autoencoder (VAE) on MNIST — Beginner Friendly Walkthrough\n",
    "This notebook explains a Variational Autoencoder (VAE) trained on the MNIST dataset using PyTorch.\n",
    "\n",
    "Each step is annotated with detailed comments to help beginners understand what's happening."
   ]
  },
  {
   "cell_type": "code",
   "execution_count": null,
   "id": "6e1e08dc",
   "metadata": {},
   "outputs": [],
   "source": [
    "!pip install torch torchvision"
   ]
  },
  {
   "cell_type": "markdown",
   "id": "e06a2c0c",
   "metadata": {},
   "source": [
    "## 1. Import Required Libraries"
   ]
  },
  {
   "cell_type": "code",
   "execution_count": null,
   "id": "77fe051a",
   "metadata": {},
   "outputs": [],
   "source": [
    "import torch\n",
    "import torch.nn as nn\n",
    "import torch.nn.functional as F\n",
    "import torchvision\n",
    "import torchvision.transforms as transforms\n",
    "from torch.utils.data import DataLoader\n",
    "import matplotlib.pyplot as plt\n",
    "import numpy as np\n"
   ]
  },
  {
   "cell_type": "markdown",
   "id": "58b17501",
   "metadata": {},
   "source": [
    "## 2. Load and Prepare the MNIST Dataset"
   ]
  },
  {
   "cell_type": "code",
   "execution_count": null,
   "id": "bf93190e",
   "metadata": {},
   "outputs": [],
   "source": [
    "# We transform MNIST images into tensors.\n",
    "transform = transforms.ToTensor()\n",
    "\n",
    "# Download and load the training data\n",
    "train_data = torchvision.datasets.MNIST(root='./data', train=True, download=True, transform=transform)\n",
    "\n",
    "# DataLoader for batching and shuffling\n",
    "train_loader = DataLoader(train_data, batch_size=128, shuffle=True)\n"
   ]
  },
  {
   "cell_type": "markdown",
   "id": "c9df866e",
   "metadata": {},
   "source": [
    "## 3. Define the VAE Model"
   ]
  },
  {
   "cell_type": "code",
   "execution_count": null,
   "id": "9f6765fd",
   "metadata": {},
   "outputs": [],
   "source": [
    "class VAE(nn.Module):\n",
    "    def __init__(self, input_dim=784, hidden_dim=400, latent_dim=20):\n",
    "        super(VAE, self).__init__()\n",
    "        # Encoder layers: input -> hidden -> (mu, logvar)\n",
    "        self.fc1 = nn.Linear(input_dim, hidden_dim)\n",
    "        self.fc_mu = nn.Linear(hidden_dim, latent_dim)      # outputs mean of q(z|x)\n",
    "        self.fc_logvar = nn.Linear(hidden_dim, latent_dim)  # outputs log-variance of q(z|x)\n",
    "\n",
    "        # Decoder layers: latent -> hidden -> reconstruction\n",
    "        self.fc3 = nn.Linear(latent_dim, hidden_dim)\n",
    "        self.fc4 = nn.Linear(hidden_dim, input_dim)\n",
    "\n",
    "    def encode(self, x):\n",
    "        # Apply a hidden layer then split into mean and logvar\n",
    "        h = F.relu(self.fc1(x))\n",
    "        mu = self.fc_mu(h)\n",
    "        logvar = self.fc_logvar(h)\n",
    "        return mu, logvar\n",
    "\n",
    "    def reparameterize(self, mu, logvar):\n",
    "        # Apply the reparameterization trick\n",
    "        std = torch.exp(0.5 * logvar)      # standard deviation\n",
    "        eps = torch.randn_like(std)        # random normal noise\n",
    "        return mu + eps * std              # sample z\n",
    "\n",
    "    def decode(self, z):\n",
    "        # Reconstruct input from latent representation\n",
    "        h = F.relu(self.fc3(z))\n",
    "        return torch.sigmoid(self.fc4(h))  # Output in [0, 1] range for binary MNIST\n",
    "\n",
    "    def forward(self, x):\n",
    "        # Full VAE forward pass\n",
    "        mu, logvar = self.encode(x)\n",
    "        z = self.reparameterize(mu, logvar)\n",
    "        recon_x = self.decode(z)\n",
    "        return recon_x, mu, logvar\n"
   ]
  },
  {
   "cell_type": "markdown",
   "id": "1b28193d",
   "metadata": {},
   "source": [
    "## 4. Define the ELBO Loss"
   ]
  },
  {
   "cell_type": "code",
   "execution_count": null,
   "id": "0f57fbe7",
   "metadata": {},
   "outputs": [],
   "source": [
    "def elbo_loss(recon_x, x, mu, logvar):\n",
    "    # Binary cross-entropy for reconstruction\n",
    "    BCE = F.binary_cross_entropy(recon_x, x, reduction='sum')\n",
    "\n",
    "    # KL divergence term to regularize q(z|x) against standard normal p(z)\n",
    "    KLD = -0.5 * torch.sum(1 + logvar - mu.pow(2) - logvar.exp())\n",
    "\n",
    "    # Total loss is negative ELBO\n",
    "    return BCE + KLD\n"
   ]
  },
  {
   "cell_type": "markdown",
   "id": "d21428ed",
   "metadata": {},
   "source": [
    "## 5. Train the VAE"
   ]
  },
  {
   "cell_type": "code",
   "execution_count": null,
   "id": "25f8490c",
   "metadata": {},
   "outputs": [],
   "source": [
    "device = torch.device(\"cuda\" if torch.cuda.is_available() else \"cpu\")\n",
    "model = VAE().to(device)\n",
    "optimizer = torch.optim.Adam(model.parameters(), lr=1e-3)\n",
    "\n",
    "epochs = 5\n",
    "for epoch in range(epochs):\n",
    "    model.train()\n",
    "    total_loss = 0\n",
    "    for x, _ in train_loader:\n",
    "        x = x.view(-1, 784).to(device)               # Flatten 28x28 images into 784 vectors\n",
    "        recon_x, mu, logvar = model(x)               # Forward pass\n",
    "        loss = elbo_loss(recon_x, x, mu, logvar)     # Compute loss\n",
    "        optimizer.zero_grad()\n",
    "        loss.backward()\n",
    "        optimizer.step()\n",
    "        total_loss += loss.item()\n",
    "    print(f\"Epoch {epoch+1}, Loss: {total_loss / len(train_loader.dataset):.2f}\")\n"
   ]
  },
  {
   "cell_type": "markdown",
   "id": "d9466802",
   "metadata": {},
   "source": [
    "## 6. Visualize Original and Reconstructed Digits"
   ]
  },
  {
   "cell_type": "code",
   "execution_count": null,
   "id": "4833558e",
   "metadata": {},
   "outputs": [],
   "source": [
    "model.eval()\n",
    "with torch.no_grad():\n",
    "    x, _ = next(iter(train_loader))\n",
    "    x = x.view(-1, 784).to(device)\n",
    "    recon_x, _, _ = model(x)\n",
    "\n",
    "    # Convert back to image format\n",
    "    x = x.view(-1, 1, 28, 28).cpu()\n",
    "    recon_x = recon_x.view(-1, 1, 28, 28).cpu()\n",
    "\n",
    "    fig, axs = plt.subplots(2, 10, figsize=(15, 3))\n",
    "    for i in range(10):\n",
    "        axs[0, i].imshow(x[i][0], cmap='gray')\n",
    "        axs[0, i].axis('off')\n",
    "        axs[1, i].imshow(recon_x[i][0], cmap='gray')\n",
    "        axs[1, i].axis('off')\n",
    "    axs[0, 0].set_ylabel(\"Original\", fontsize=12)\n",
    "    axs[1, 0].set_ylabel(\"Reconstruction\", fontsize=12)\n",
    "    plt.tight_layout()\n",
    "    plt.show()\n"
   ]
  }
 ],
 "metadata": {},
 "nbformat": 4,
 "nbformat_minor": 5
}
