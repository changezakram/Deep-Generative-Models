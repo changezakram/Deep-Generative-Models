{
 "cells": [
  {
   "cell_type": "markdown",
   "id": "0c4c9d3b",
   "metadata": {},
   "source": [
    "# Energy-Based Model (EBM) on MNIST\n",
    "This notebook implements a basic EBM using PyTorch and MNIST."
   ]
  },
  {
   "cell_type": "code",
   "execution_count": null,
   "id": "8b360119",
   "metadata": {},
   "outputs": [],
   "source": [
    "# Install and import dependencies\n",
    "!pip install torch torchvision matplotlib --quiet\n",
    "import torch\n",
    "import torch.nn as nn\n",
    "import torch.nn.functional as F\n",
    "from torchvision import datasets, transforms\n",
    "from torch.utils.data import DataLoader\n",
    "import matplotlib.pyplot as plt\n",
    "import numpy as np"
   ]
  },
  {
   "cell_type": "code",
   "execution_count": null,
   "id": "e8cb56b5",
   "metadata": {},
   "outputs": [],
   "source": [
    "# Set up MNIST data loader\n",
    "transform = transforms.Compose([transforms.ToTensor()])\n",
    "mnist = datasets.MNIST(root='./data', train=True, download=True, transform=transform)\n",
    "dataloader = DataLoader(mnist, batch_size=64, shuffle=True)"
   ]
  }
 ],
 "metadata": {},
 "nbformat": 4,
 "nbformat_minor": 5
}
